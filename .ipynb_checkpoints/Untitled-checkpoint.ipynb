{
 "cells": [
  {
   "cell_type": "code",
   "execution_count": null,
   "id": "a12be55c-7eb0-42eb-96a1-ae34e2931451",
   "metadata": {},
   "outputs": [],
   "source": [
    "import torch, monai, cv2, PIL, albumentations"
   ]
  },
  {
   "cell_type": "code",
   "execution_count": null,
   "id": "eb6716d4-d3e2-4c0f-b26a-34f7d487ca54",
   "metadata": {},
   "outputs": [],
   "source": [
    "print(\"Torch:\", torch.__version__)"
   ]
  },
  {
   "cell_type": "code",
   "execution_count": null,
   "id": "d5558e9a-b3b2-45a9-b841-9ff0cbb28bcc",
   "metadata": {},
   "outputs": [],
   "source": [
    "print(torch.cuda.is_availible())"
   ]
  },
  {
   "cell_type": "code",
   "execution_count": null,
   "id": "eedb2410-5f48-445d-a9db-91cf8ae3e0bd",
   "metadata": {},
   "outputs": [],
   "source": []
  }
 ],
 "metadata": {
  "kernelspec": {
   "display_name": "Python (BP)",
   "language": "python",
   "name": "venv_bp"
  },
  "language_info": {
   "codemirror_mode": {
    "name": "ipython",
    "version": 3
   },
   "file_extension": ".py",
   "mimetype": "text/x-python",
   "name": "python",
   "nbconvert_exporter": "python",
   "pygments_lexer": "ipython3",
   "version": "3.13.0"
  }
 },
 "nbformat": 4,
 "nbformat_minor": 5
}
